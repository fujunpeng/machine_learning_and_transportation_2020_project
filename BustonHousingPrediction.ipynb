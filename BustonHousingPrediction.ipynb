{
 "cells": [
  {
   "cell_type": "code",
   "execution_count": 1,
   "metadata": {
    "scrolled": true
   },
   "outputs": [
    {
     "name": "stdout",
     "output_type": "stream",
     "text": [
      "Boston housing dataset has 489 data points with 4 variables each.\n"
     ]
    }
   ],
   "source": [
    "import pandas as pd\n",
    "import numpy as np\n",
    "import matplotlib.pyplot as plt\n",
    "\n",
    "column_names = ['RM','LSTAT','PTRATIO','MEDV']\n",
    "data = pd.read_csv('C:\\\\Users\\\\14503\\\\OneDrive\\\\2020-machinelearning\\\\machine-learning-master\\\\projects\\\\boston_housing\\\\housing.csv')\n",
    "print(\"Boston housing dataset has {} data points with {} variables each.\".format(*data.shape))"
   ]
  },
  {
   "cell_type": "code",
   "execution_count": 2,
   "metadata": {},
   "outputs": [
    {
     "data": {
      "text/html": [
       "<div>\n",
       "<style scoped>\n",
       "    .dataframe tbody tr th:only-of-type {\n",
       "        vertical-align: middle;\n",
       "    }\n",
       "\n",
       "    .dataframe tbody tr th {\n",
       "        vertical-align: top;\n",
       "    }\n",
       "\n",
       "    .dataframe thead th {\n",
       "        text-align: right;\n",
       "    }\n",
       "</style>\n",
       "<table border=\"1\" class=\"dataframe\">\n",
       "  <thead>\n",
       "    <tr style=\"text-align: right;\">\n",
       "      <th></th>\n",
       "      <th>RM</th>\n",
       "      <th>LSTAT</th>\n",
       "      <th>PTRATIO</th>\n",
       "      <th>MEDV</th>\n",
       "    </tr>\n",
       "  </thead>\n",
       "  <tbody>\n",
       "    <tr>\n",
       "      <th>0</th>\n",
       "      <td>6.575</td>\n",
       "      <td>4.98</td>\n",
       "      <td>15.3</td>\n",
       "      <td>504000.0</td>\n",
       "    </tr>\n",
       "    <tr>\n",
       "      <th>1</th>\n",
       "      <td>6.421</td>\n",
       "      <td>9.14</td>\n",
       "      <td>17.8</td>\n",
       "      <td>453600.0</td>\n",
       "    </tr>\n",
       "    <tr>\n",
       "      <th>2</th>\n",
       "      <td>7.185</td>\n",
       "      <td>4.03</td>\n",
       "      <td>17.8</td>\n",
       "      <td>728700.0</td>\n",
       "    </tr>\n",
       "    <tr>\n",
       "      <th>3</th>\n",
       "      <td>6.998</td>\n",
       "      <td>2.94</td>\n",
       "      <td>18.7</td>\n",
       "      <td>701400.0</td>\n",
       "    </tr>\n",
       "    <tr>\n",
       "      <th>4</th>\n",
       "      <td>7.147</td>\n",
       "      <td>5.33</td>\n",
       "      <td>18.7</td>\n",
       "      <td>760200.0</td>\n",
       "    </tr>\n",
       "  </tbody>\n",
       "</table>\n",
       "</div>"
      ],
      "text/plain": [
       "      RM  LSTAT  PTRATIO      MEDV\n",
       "0  6.575   4.98     15.3  504000.0\n",
       "1  6.421   9.14     17.8  453600.0\n",
       "2  7.185   4.03     17.8  728700.0\n",
       "3  6.998   2.94     18.7  701400.0\n",
       "4  7.147   5.33     18.7  760200.0"
      ]
     },
     "execution_count": 2,
     "metadata": {},
     "output_type": "execute_result"
    }
   ],
   "source": [
    "data.head()"
   ]
  },
  {
   "cell_type": "code",
   "execution_count": 3,
   "metadata": {},
   "outputs": [
    {
     "name": "stdout",
     "output_type": "stream",
     "text": [
      "<class 'pandas.core.frame.DataFrame'>\n",
      "RangeIndex: 489 entries, 0 to 488\n",
      "Data columns (total 4 columns):\n",
      "RM         489 non-null float64\n",
      "LSTAT      489 non-null float64\n",
      "PTRATIO    489 non-null float64\n",
      "MEDV       489 non-null float64\n",
      "dtypes: float64(4)\n",
      "memory usage: 15.4 KB\n"
     ]
    }
   ],
   "source": [
    "data.info()"
   ]
  },
  {
   "cell_type": "code",
   "execution_count": 4,
   "metadata": {},
   "outputs": [],
   "source": [
    "from sklearn.model_selection import train_test_split\n",
    "\n",
    "X = data[column_names[0:-1]]\n",
    "y = data[column_names[-1]]\n",
    "\n",
    "X_train, X_test, y_train, y_test = train_test_split(X, y, test_size=0.2, random_state=2020)"
   ]
  },
  {
   "cell_type": "code",
   "execution_count": 5,
   "metadata": {},
   "outputs": [],
   "source": [
    "#Standardization\n",
    "from sklearn.preprocessing import StandardScaler\n",
    "\n",
    "ss = StandardScaler()\n",
    "\n",
    "X_train = ss.fit_transform(X_train)\n",
    "X_test = ss.transform(X_test)"
   ]
  },
  {
   "cell_type": "code",
   "execution_count": 6,
   "metadata": {},
   "outputs": [
    {
     "data": {
      "text/plain": [
       "(391, 3)"
      ]
     },
     "execution_count": 6,
     "metadata": {},
     "output_type": "execute_result"
    }
   ],
   "source": [
    "X_train\n",
    "X_train.shape"
   ]
  },
  {
   "cell_type": "code",
   "execution_count": 7,
   "metadata": {},
   "outputs": [
    {
     "data": {
      "text/plain": [
       "(98, 3)"
      ]
     },
     "execution_count": 7,
     "metadata": {},
     "output_type": "execute_result"
    }
   ],
   "source": [
    "X_test.shape"
   ]
  },
  {
   "cell_type": "code",
   "execution_count": 8,
   "metadata": {},
   "outputs": [
    {
     "name": "stdout",
     "output_type": "stream",
     "text": [
      "LinearRegression结果为：\n",
      "MAE: 64456.496246\n",
      "MSE: 6922885233.555172\n",
      "r2 score: 0.706385\n"
     ]
    }
   ],
   "source": [
    "#method1: LinearRegression\n",
    "from sklearn.linear_model import LinearRegression\n",
    "from sklearn.metrics import mean_absolute_error, mean_squared_error, r2_score\n",
    "\n",
    "lr = LinearRegression()\n",
    "lr.fit(X_train, y_train)\n",
    "lr_y_predict = lr.predict(X_test)\n",
    "LinearRegression_score = r2_score(y_test, lr_y_predict)\n",
    "\n",
    "#print (y_predict)\n",
    "#print (y_test)\n",
    "\n",
    "print ('LinearRegression结果为：')\n",
    "print ('%s: %f' %('MAE',mean_absolute_error(y_test, lr_y_predict)))\n",
    "print ('%s: %f' %('MSE',mean_squared_error(y_test, lr_y_predict)))\n",
    "print ('%s: %f' %('r2 score',LinearRegression_score))"
   ]
  },
  {
   "cell_type": "code",
   "execution_count": 9,
   "metadata": {},
   "outputs": [
    {
     "name": "stdout",
     "output_type": "stream",
     "text": [
      "SVR结果为：\n",
      "MAE: 123101.190631\n",
      "MSE: 23744697050.013432\n",
      "r2 score: -0.007067\n"
     ]
    }
   ],
   "source": [
    "#method2: SVR\n",
    "from sklearn.svm import SVR\n",
    "from sklearn.metrics import mean_absolute_error, mean_squared_error, r2_score\n",
    "\n",
    "svr = SVR(kernel='sigmoid',max_iter=3000)\n",
    "#No matter how I set up the kernel function，such as 'sigmoid','linear','poly','RBF',etc. and the number of iterations, the r2 score is always\n",
    "#the negative number.I've looked up the information and it indicates that setting the parameters to adjust the model yields a fit that is also \n",
    "#more erroneous than a random guess at a mean.\n",
    "svr.fit(X_train, y_train)\n",
    "svr_y_predict = svr.predict(X_test)\n",
    "SVR_score = r2_score(y_test, svr_y_predict)\n",
    "\n",
    "print ('SVR结果为：')\n",
    "print ('%s: %f' %('MAE',mean_absolute_error(y_test, svr_y_predict)))\n",
    "print ('%s: %f' %('MSE',mean_squared_error(y_test, svr_y_predict)))\n",
    "print ('%s: %f' %('r2 score',SVR_score))"
   ]
  },
  {
   "cell_type": "code",
   "execution_count": 10,
   "metadata": {},
   "outputs": [
    {
     "name": "stdout",
     "output_type": "stream",
     "text": [
      "KNeighborsRegressor结果为：\n",
      "MAE: 50442.857143\n",
      "MSE: 4451202000.000000\n",
      "r2 score: 0.811214\n"
     ]
    }
   ],
   "source": [
    "#method3: KNeighborsRegressor\n",
    "from sklearn.neighbors import KNeighborsRegressor\n",
    "from sklearn.metrics import mean_absolute_error, mean_squared_error, r2_score\n",
    "\n",
    "knr = KNeighborsRegressor()\n",
    "knr.fit(X_train, y_train)\n",
    "knr_y_predict = knr.predict(X_test)\n",
    "KNeighborsRegressor_score = r2_score(y_test, knr_y_predict)\n",
    "\n",
    "print ('KNeighborsRegressor结果为：')\n",
    "print ('%s: %f' %('MAE',mean_absolute_error(y_test, knr_y_predict)))\n",
    "print ('%s: %f' %('MSE',mean_squared_error(y_test, knr_y_predict)))\n",
    "print ('%s: %f' %('r2 score',KNeighborsRegressor_score))"
   ]
  },
  {
   "cell_type": "code",
   "execution_count": 11,
   "metadata": {},
   "outputs": [
    {
     "name": "stdout",
     "output_type": "stream",
     "text": [
      "DecisionTreeRegressor结果为：\n",
      "MAE: 63300.000000\n",
      "MSE: 6807150000.000000\n",
      "r2 score: 0.711293\n"
     ]
    }
   ],
   "source": [
    "#method4: DecisionTreeRegressor\n",
    "from sklearn.tree import DecisionTreeRegressor\n",
    "from sklearn.metrics import mean_absolute_error, mean_squared_error, r2_score\n",
    "\n",
    "dtr = DecisionTreeRegressor()\n",
    "dtr.fit(X_train, y_train)\n",
    "dtr_y_predict = dtr.predict(X_test)\n",
    "DecisionTreeRegressor_score = r2_score(y_test, dtr_y_predict)\n",
    "\n",
    "print ('DecisionTreeRegressor结果为：')\n",
    "print ('%s: %f' %('MAE',mean_absolute_error(y_test, dtr_y_predict)))\n",
    "print ('%s: %f' %('MSE',mean_squared_error(y_test, dtr_y_predict)))\n",
    "print ('%s: %f' %('r2 score',DecisionTreeRegressor_score))"
   ]
  },
  {
   "cell_type": "code",
   "execution_count": 12,
   "metadata": {},
   "outputs": [
    {
     "name": "stdout",
     "output_type": "stream",
     "text": [
      "RandomForestRegressor结果为：\n",
      "MAE: 49105.714286\n",
      "MSE: 4195260900.000000\n",
      "r2 score: 0.822069\n"
     ]
    },
    {
     "name": "stderr",
     "output_type": "stream",
     "text": [
      "D:\\Anaconda\\lib\\site-packages\\sklearn\\ensemble\\weight_boosting.py:29: DeprecationWarning: numpy.core.umath_tests is an internal NumPy module and should not be imported. It will be removed in a future NumPy release.\n",
      "  from numpy.core.umath_tests import inner1d\n"
     ]
    }
   ],
   "source": [
    "#method5: RandomForestRegressor\n",
    "from sklearn.ensemble import RandomForestRegressor\n",
    "from sklearn.metrics import mean_absolute_error, mean_squared_error, r2_score\n",
    "\n",
    "rfr = RandomForestRegressor()\n",
    "rfr.fit(X_train, y_train)\n",
    "rfr_y_predict = rfr.predict(X_test)\n",
    "RandomForestRegressor_score = r2_score(y_test, rfr_y_predict)\n",
    "\n",
    "print ('RandomForestRegressor结果为：')\n",
    "print ('%s: %f' %('MAE',mean_absolute_error(y_test, rfr_y_predict)))\n",
    "print ('%s: %f' %('MSE',mean_squared_error(y_test, rfr_y_predict)))\n",
    "print ('%s: %f' %('r2 score',RandomForestRegressor_score))"
   ]
  },
  {
   "cell_type": "code",
   "execution_count": 13,
   "metadata": {},
   "outputs": [
    {
     "name": "stdout",
     "output_type": "stream",
     "text": [
      "GradientBoostingRegressor结果为：\n",
      "MAE: 49346.335759\n",
      "MSE: 4150667970.626709\n",
      "r2 score: 0.823961\n"
     ]
    }
   ],
   "source": [
    "#method6: GradientBoostingRegressor\n",
    "from sklearn.ensemble import GradientBoostingRegressor\n",
    "from sklearn.metrics import mean_absolute_error, mean_squared_error, r2_score\n",
    "\n",
    "gbr = GradientBoostingRegressor()\n",
    "gbr.fit(X_train, y_train)\n",
    "gbr_y_predict = gbr.predict(X_test)\n",
    "GradientBoostingRegressor_score = r2_score(y_test, gbr_y_predict)\n",
    "\n",
    "print ('GradientBoostingRegressor结果为：')\n",
    "print ('%s: %f' %('MAE',mean_absolute_error(y_test, gbr_y_predict)))\n",
    "print ('%s: %f' %('MSE',mean_squared_error(y_test, gbr_y_predict)))\n",
    "print ('%s: %f' %('r2 score',GradientBoostingRegressor_score))"
   ]
  },
  {
   "cell_type": "code",
   "execution_count": 14,
   "metadata": {},
   "outputs": [
    {
     "name": "stdout",
     "output_type": "stream",
     "text": [
      "MLPRegressor结果为：\n",
      "MAE: 52869.229105\n",
      "MSE: 5085008068.020052\n",
      "r2 score: 0.784333\n"
     ]
    }
   ],
   "source": [
    "#method7: MLPRegressor\n",
    "from sklearn.neural_network import MLPRegressor \n",
    "from sklearn.metrics import mean_absolute_error, mean_squared_error, r2_score\n",
    "\n",
    "mlpr = MLPRegressor(hidden_layer_sizes=(200,10), max_iter=9000)\n",
    "#If max_iter is too little,there is a convergence warning that means the not best fitting,and 9000 is the edge.\n",
    "mlpr.fit(X_train, y_train)\n",
    "mlpr_y_predict = mlpr.predict(X_test)\n",
    "MLPRegressor_score = r2_score(y_test, mlpr_y_predict)\n",
    "\n",
    "print ('MLPRegressor结果为：')\n",
    "print ('%s: %f' %('MAE',mean_absolute_error(y_test, mlpr_y_predict)))\n",
    "print ('%s: %f' %('MSE',mean_squared_error(y_test, mlpr_y_predict)))\n",
    "print ('%s: %f' %('r2 score',MLPRegressor_score))"
   ]
  },
  {
   "cell_type": "code",
   "execution_count": 15,
   "metadata": {},
   "outputs": [
    {
     "data": {
      "image/png": "[encoded data removed]",
      "text/plain": [
       "<Figure size 800x800 with 1 Axes>"
      ]
     },
     "metadata": {},
     "output_type": "display_data"
    }
   ],
   "source": [
    "#The bar graph\n",
    "plt.figure(figsize=(10, 10), dpi=80)\n",
    "Number = 7\n",
    "values = (LinearRegression_score,SVR_score,KNeighborsRegressor_score,DecisionTreeRegressor_score,RandomForestRegressor_score,\n",
    "          GradientBoostingRegressor_score,MLPRegressor_score)\n",
    "index = np.arange(Number)\n",
    "width = 0.45\n",
    "p2 = plt.bar(index, values, width, label=\"r2 score\", color=\"#87CEFA\")\n",
    "plt.xlabel('method')\n",
    "plt.title('The score of prediction using following methods')\n",
    "plt.xticks(index, ('LR', 'SVR', 'KNR', 'DTR', 'RFR', 'GBR', 'MLPR'))\n",
    "plt.legend(loc=\"upper right\")\n",
    "plt.show()"
   ]
  },
  {
   "cell_type": "code",
   "execution_count": 34,
   "metadata": {},
   "outputs": [
    {
     "data": {
      "image/png": "[encoded data removed]",
      "text/plain": [
       "<Figure size 432x288 with 7 Axes>"
      ]
     },
     "metadata": {},
     "output_type": "display_data"
    }
   ],
   "source": [
    "#The predicted and actual value\n",
    "plt.figure()\n",
    "x = np.linspace(0,98,98)\n",
    "y0 = y_test\n",
    "y1 = lr_y_predict\n",
    "y2 = svr_y_predict\n",
    "y3 = knr_y_predict\n",
    "y4 = dtr_y_predict\n",
    "y5 = rfr_y_predict\n",
    "y6 = gbr_y_predict\n",
    "y7 = mlpr_y_predict\n",
    "\n",
    "\n",
    "plt.subplot(4,2,1)\n",
    "plt.title('LR')\n",
    "plt.plot(x,y1,color='orange',linewidth=1)\n",
    "plt.plot(x,y0,color='red',linewidth=1,linestyle='--')\n",
    "\n",
    "plt.subplot(4,2,2)\n",
    "plt.title('SVR')\n",
    "plt.plot(x,y2,color='yellow',linewidth=1)\n",
    "plt.plot(x,y0,color='red',linewidth=1,linestyle='--')\n",
    "\n",
    "plt.subplot(4,2,3)\n",
    "plt.title('KNR')\n",
    "plt.plot(x,y3,color='green',linewidth=1)\n",
    "plt.plot(x,y0,color='red',linewidth=1,linestyle='--')\n",
    "\n",
    "plt.subplot(4,2,4)\n",
    "plt.title('DTR')\n",
    "plt.plot(x,y4,color='blue',linewidth=1)\n",
    "plt.plot(x,y0,color='red',linewidth=1,linestyle='--')\n",
    "\n",
    "plt.subplot(4,2,5)\n",
    "plt.title('RFR')\n",
    "plt.plot(x,y5,color='purple',linewidth=1)\n",
    "plt.plot(x,y0,color='red',linewidth=1,linestyle='--')\n",
    "\n",
    "plt.subplot(4,2,6)\n",
    "plt.title('GBR')\n",
    "plt.plot(x,y6,color='black',linewidth=1)\n",
    "plt.plot(x,y0,color='red',linewidth=1,linestyle='--')\n",
    "\n",
    "plt.subplot(4,2,7)\n",
    "plt.title('MLPR')\n",
    "plt.plot(x,y7,color='grey',linewidth=1)\n",
    "plt.plot(x,y0,color='red',linewidth=1,linestyle='--')\n",
    "\n",
    "\n",
    "plt.subplots_adjust(wspace =0.95, hspace =0.95)\n",
    "\n",
    "plt.show()"
   ]
  },
  {
   "cell_type": "code",
   "execution_count": null,
   "metadata": {},
   "outputs": [],
   "source": []
  }
 ],
 "metadata": {
  "kernelspec": {
   "display_name": "Python 3",
   "language": "python",
   "name": "python3"
  },
  "language_info": {
   "codemirror_mode": {
    "name": "ipython",
    "version": 3
   },
   "file_extension": ".py",
   "mimetype": "text/x-python",
   "name": "python",
   "nbconvert_exporter": "python",
   "pygments_lexer": "ipython3",
   "version": "3.6.5"
  }
 },
 "nbformat": 4,
 "nbformat_minor": 2
}
